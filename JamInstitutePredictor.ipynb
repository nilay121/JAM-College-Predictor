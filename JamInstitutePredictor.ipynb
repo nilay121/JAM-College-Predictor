{
 "cells": [
  {
   "cell_type": "markdown",
   "id": "642cf9a7",
   "metadata": {},
   "source": [
    "We will create different models for General Category,OBC NCl category,SC category, ST category and then will deploying the final model we will use if clause that will check the caste of the student and on the basis of that the particular model will be triggered"
   ]
  },
  {
   "cell_type": "code",
   "execution_count": 35,
   "id": "b3fc47ab",
   "metadata": {},
   "outputs": [],
   "source": [
    "import pandas as pd\n",
    "import numpy as np\n",
    "import matplotlib.pyplot as plt\n",
    "from sklearn.compose import ColumnTransformer\n",
    "from sklearn.preprocessing import OneHotEncoder\n",
    "from sklearn.preprocessing import StandardScaler\n",
    "from sklearn.pipeline import Pipeline\n",
    "from sklearn.metrics import accuracy_score\n",
    "from sklearn.tree import DecisionTreeClassifier\n",
    "from sklearn.metrics import confusion_matrix\n",
    "from sklearn.ensemble import RandomForestClassifier\n",
    "from joblib import dump, load"
   ]
  },
  {
   "cell_type": "code",
   "execution_count": 2,
   "id": "89d78cbe",
   "metadata": {},
   "outputs": [],
   "source": [
    "#2021\n",
    "df2021_round1=pd.read_excel(\"First_Round_Opening_Closing_Ranks.xlsx\")\n",
    "df2021_round2=pd.read_excel(\"Second_Round_Opening_Closing_Ranks.xlsx\")\n",
    "df2021_round3=pd.read_excel(\"Third_Round_Opening_Closing_Ranks.xlsx\")\n",
    "\n",
    "#2019\n",
    "df2019_round1=pd.read_excel(\"JAM2019_cutoffRound1.xlsx\",sheet_name=\"Table 2\")\n",
    "df2019_round2=pd.read_excel(\"JAM2019_cutoffRound2.xlsx\",sheet_name=\"Table 2\")\n",
    "df2019_round3=pd.read_excel(\"JAM2019_cutoffRound3.xlsx\",sheet_name=\"Table 1\")\n",
    "df2019_round32=pd.read_excel(\"JAM2019_cutoffRound3.xlsx\",sheet_name=\"Table 2\")\n",
    "\n"
   ]
  },
  {
   "cell_type": "code",
   "execution_count": 3,
   "id": "3f79e7e3",
   "metadata": {},
   "outputs": [
    {
     "data": {
      "text/html": [
       "<div>\n",
       "<style scoped>\n",
       "    .dataframe tbody tr th:only-of-type {\n",
       "        vertical-align: middle;\n",
       "    }\n",
       "\n",
       "    .dataframe tbody tr th {\n",
       "        vertical-align: top;\n",
       "    }\n",
       "\n",
       "    .dataframe thead th {\n",
       "        text-align: right;\n",
       "    }\n",
       "</style>\n",
       "<table border=\"1\" class=\"dataframe\">\n",
       "  <thead>\n",
       "    <tr style=\"text-align: right;\">\n",
       "      <th></th>\n",
       "      <th>ZoneName</th>\n",
       "      <th>CourseName</th>\n",
       "      <th>ourse-lD</th>\n",
       "      <th>Papers</th>\n",
       "      <th>Degree</th>\n",
       "      <th>Opening</th>\n",
       "      <th>Closing_gn</th>\n",
       "      <th>Opening.1</th>\n",
       "      <th>Closing_obc</th>\n",
       "      <th>Opening.2</th>\n",
       "      <th>...</th>\n",
       "      <th>Opening.3</th>\n",
       "      <th>Closing_st</th>\n",
       "      <th>Opening.4</th>\n",
       "      <th>Closing</th>\n",
       "      <th>Opening.5</th>\n",
       "      <th>Closing.1</th>\n",
       "      <th>Opening.6</th>\n",
       "      <th>Closing.2</th>\n",
       "      <th>Opening.7</th>\n",
       "      <th>Closing.3</th>\n",
       "    </tr>\n",
       "  </thead>\n",
       "  <tbody>\n",
       "    <tr>\n",
       "      <th>0</th>\n",
       "      <td>llT  BOMBAY</td>\n",
       "      <td>BlOTECHNOLOGY</td>\n",
       "      <td>1204</td>\n",
       "      <td>BT</td>\n",
       "      <td>M.SC</td>\n",
       "      <td>1</td>\n",
       "      <td>14</td>\n",
       "      <td>19</td>\n",
       "      <td>84</td>\n",
       "      <td>124</td>\n",
       "      <td>...</td>\n",
       "      <td>1345</td>\n",
       "      <td>1480</td>\n",
       "      <td>-</td>\n",
       "      <td>-</td>\n",
       "      <td>335</td>\n",
       "      <td>335</td>\n",
       "      <td>-</td>\n",
       "      <td>-</td>\n",
       "      <td>-</td>\n",
       "      <td>-</td>\n",
       "    </tr>\n",
       "    <tr>\n",
       "      <th>1</th>\n",
       "      <td>llT  BOMBAY</td>\n",
       "      <td>ENVlRONMENTAL SClENCE  AND ENGlNEERlNG</td>\n",
       "      <td>1213</td>\n",
       "      <td>BT</td>\n",
       "      <td>M.SC. - PH.D. DUAL DEGREE</td>\n",
       "      <td>46</td>\n",
       "      <td>46</td>\n",
       "      <td>227</td>\n",
       "      <td>227</td>\n",
       "      <td>-</td>\n",
       "      <td>...</td>\n",
       "      <td>-</td>\n",
       "      <td>-</td>\n",
       "      <td>-</td>\n",
       "      <td>-</td>\n",
       "      <td>-</td>\n",
       "      <td>-</td>\n",
       "      <td>-</td>\n",
       "      <td>-</td>\n",
       "      <td>-</td>\n",
       "      <td>-</td>\n",
       "    </tr>\n",
       "    <tr>\n",
       "      <th>2</th>\n",
       "      <td>llT  KHARAGPUR</td>\n",
       "      <td>Molecular  Medical  Microbiology</td>\n",
       "      <td>1608</td>\n",
       "      <td>BT</td>\n",
       "      <td>JOlNT  M.SC. - PH.D.</td>\n",
       "      <td>32</td>\n",
       "      <td>42</td>\n",
       "      <td>132</td>\n",
       "      <td>227</td>\n",
       "      <td>201</td>\n",
       "      <td>...</td>\n",
       "      <td>1194</td>\n",
       "      <td>1194</td>\n",
       "      <td>3319</td>\n",
       "      <td>3319</td>\n",
       "      <td>-</td>\n",
       "      <td>-</td>\n",
       "      <td>-</td>\n",
       "      <td>-</td>\n",
       "      <td>-</td>\n",
       "      <td>-</td>\n",
       "    </tr>\n",
       "  </tbody>\n",
       "</table>\n",
       "<p>3 rows × 21 columns</p>\n",
       "</div>"
      ],
      "text/plain": [
       "         ZoneName                              CourseName  ourse-lD Papers  \\\n",
       "0     llT  BOMBAY                           BlOTECHNOLOGY      1204     BT   \n",
       "1     llT  BOMBAY  ENVlRONMENTAL SClENCE  AND ENGlNEERlNG      1213     BT   \n",
       "2  llT  KHARAGPUR        Molecular  Medical  Microbiology      1608     BT   \n",
       "\n",
       "                      Degree  Opening  Closing_gn Opening.1 Closing_obc  \\\n",
       "0                       M.SC        1          14        19          84   \n",
       "1  M.SC. - PH.D. DUAL DEGREE       46          46       227         227   \n",
       "2       JOlNT  M.SC. - PH.D.       32          42       132         227   \n",
       "\n",
       "  Opening.2  ... Opening.3 Closing_st Opening.4 Closing Opening.5 Closing.1  \\\n",
       "0       124  ...      1345       1480         -       -       335       335   \n",
       "1         -  ...         -          -         -       -         -         -   \n",
       "2       201  ...      1194       1194      3319    3319         -         -   \n",
       "\n",
       "  Opening.6 Closing.2 Opening.7 Closing.3  \n",
       "0         -         -         -         -  \n",
       "1         -         -         -         -  \n",
       "2         -         -         -         -  \n",
       "\n",
       "[3 rows x 21 columns]"
      ]
     },
     "execution_count": 3,
     "metadata": {},
     "output_type": "execute_result"
    }
   ],
   "source": [
    "df2019_round1.head(3)"
   ]
  },
  {
   "cell_type": "code",
   "execution_count": 4,
   "id": "d1cfebf5",
   "metadata": {},
   "outputs": [
    {
     "data": {
      "text/html": [
       "<div>\n",
       "<style scoped>\n",
       "    .dataframe tbody tr th:only-of-type {\n",
       "        vertical-align: middle;\n",
       "    }\n",
       "\n",
       "    .dataframe tbody tr th {\n",
       "        vertical-align: top;\n",
       "    }\n",
       "\n",
       "    .dataframe thead th {\n",
       "        text-align: right;\n",
       "    }\n",
       "</style>\n",
       "<table border=\"1\" class=\"dataframe\">\n",
       "  <thead>\n",
       "    <tr style=\"text-align: right;\">\n",
       "      <th></th>\n",
       "      <th>Institute</th>\n",
       "      <th>Course</th>\n",
       "      <th>Program</th>\n",
       "      <th>Paper</th>\n",
       "      <th>Degree</th>\n",
       "      <th>Opening_gn</th>\n",
       "      <th>Closing_gn</th>\n",
       "      <th>Opening_gnews</th>\n",
       "      <th>Closing_gnews</th>\n",
       "      <th>Opening_obcncl</th>\n",
       "      <th>Closing_obc</th>\n",
       "      <th>Opening_sc</th>\n",
       "      <th>Closing_sc</th>\n",
       "      <th>Opening_st</th>\n",
       "      <th>Closing_st</th>\n",
       "    </tr>\n",
       "  </thead>\n",
       "  <tbody>\n",
       "    <tr>\n",
       "      <th>0</th>\n",
       "      <td>IIT BOMBAY</td>\n",
       "      <td>BIOTECHNOLOGY</td>\n",
       "      <td>1204</td>\n",
       "      <td>BT</td>\n",
       "      <td>M.SC. (4 SEMESTERS)</td>\n",
       "      <td>1</td>\n",
       "      <td>15</td>\n",
       "      <td>23</td>\n",
       "      <td>70</td>\n",
       "      <td>16</td>\n",
       "      <td>54</td>\n",
       "      <td>89</td>\n",
       "      <td>362</td>\n",
       "      <td>168</td>\n",
       "      <td>597</td>\n",
       "    </tr>\n",
       "    <tr>\n",
       "      <th>1</th>\n",
       "      <td>IIT BOMBAY</td>\n",
       "      <td>ENVIRONMENTAL SCIENCE AND\\nENGINEERING</td>\n",
       "      <td>1213</td>\n",
       "      <td>BT</td>\n",
       "      <td>M.SC.-PH.D. DUAL DEGREE</td>\n",
       "      <td>38</td>\n",
       "      <td>38</td>\n",
       "      <td>94</td>\n",
       "      <td>94</td>\n",
       "      <td>83</td>\n",
       "      <td>83</td>\n",
       "      <td>-</td>\n",
       "      <td>-</td>\n",
       "      <td>-</td>\n",
       "      <td>-</td>\n",
       "    </tr>\n",
       "    <tr>\n",
       "      <th>2</th>\n",
       "      <td>IIT KHARAGPUR</td>\n",
       "      <td>MOLECULAR MEDICAL\\nMICROBIOLOGY</td>\n",
       "      <td>1608</td>\n",
       "      <td>BT</td>\n",
       "      <td>JOINT M.SC. - PHD*</td>\n",
       "      <td>7</td>\n",
       "      <td>17</td>\n",
       "      <td>99</td>\n",
       "      <td>99</td>\n",
       "      <td>76</td>\n",
       "      <td>76</td>\n",
       "      <td>61</td>\n",
       "      <td>61</td>\n",
       "      <td>-</td>\n",
       "      <td>-</td>\n",
       "    </tr>\n",
       "    <tr>\n",
       "      <th>3</th>\n",
       "      <td>IIT INDORE</td>\n",
       "      <td>BIOTECHNOLOGY</td>\n",
       "      <td>2204</td>\n",
       "      <td>BT</td>\n",
       "      <td>M.SC. (4 SEMESTERS)</td>\n",
       "      <td>18</td>\n",
       "      <td>26</td>\n",
       "      <td>72</td>\n",
       "      <td>74</td>\n",
       "      <td>57</td>\n",
       "      <td>68</td>\n",
       "      <td>385</td>\n",
       "      <td>390</td>\n",
       "      <td>685</td>\n",
       "      <td>685</td>\n",
       "    </tr>\n",
       "    <tr>\n",
       "      <th>4</th>\n",
       "      <td>IIT BOMBAY</td>\n",
       "      <td>CHEMISTRY</td>\n",
       "      <td>1205</td>\n",
       "      <td>CY</td>\n",
       "      <td>M.SC. (4 SEMESTERS)</td>\n",
       "      <td>1</td>\n",
       "      <td>29</td>\n",
       "      <td>30</td>\n",
       "      <td>99</td>\n",
       "      <td>31</td>\n",
       "      <td>114</td>\n",
       "      <td>42</td>\n",
       "      <td>593</td>\n",
       "      <td>429</td>\n",
       "      <td>939</td>\n",
       "    </tr>\n",
       "  </tbody>\n",
       "</table>\n",
       "</div>"
      ],
      "text/plain": [
       "       Institute                                  Course  Program Paper  \\\n",
       "0     IIT BOMBAY                           BIOTECHNOLOGY     1204    BT   \n",
       "1     IIT BOMBAY  ENVIRONMENTAL SCIENCE AND\\nENGINEERING     1213    BT   \n",
       "2  IIT KHARAGPUR         MOLECULAR MEDICAL\\nMICROBIOLOGY     1608    BT   \n",
       "3     IIT INDORE                           BIOTECHNOLOGY     2204    BT   \n",
       "4     IIT BOMBAY                               CHEMISTRY     1205    CY   \n",
       "\n",
       "                    Degree  Opening_gn  Closing_gn Opening_gnews  \\\n",
       "0      M.SC. (4 SEMESTERS)           1          15            23   \n",
       "1  M.SC.-PH.D. DUAL DEGREE          38          38            94   \n",
       "2       JOINT M.SC. - PHD*           7          17            99   \n",
       "3      M.SC. (4 SEMESTERS)          18          26            72   \n",
       "4      M.SC. (4 SEMESTERS)           1          29            30   \n",
       "\n",
       "  Closing_gnews Opening_obcncl Closing_obc Opening_sc Closing_sc Opening_st  \\\n",
       "0            70             16          54         89        362        168   \n",
       "1            94             83          83          -          -          -   \n",
       "2            99             76          76         61         61          -   \n",
       "3            74             57          68        385        390        685   \n",
       "4            99             31         114         42        593        429   \n",
       "\n",
       "  Closing_st  \n",
       "0        597  \n",
       "1          -  \n",
       "2          -  \n",
       "3        685  \n",
       "4        939  "
      ]
     },
     "execution_count": 4,
     "metadata": {},
     "output_type": "execute_result"
    }
   ],
   "source": [
    "df2021_round1.head()"
   ]
  },
  {
   "cell_type": "code",
   "execution_count": 5,
   "id": "4dc75a89",
   "metadata": {},
   "outputs": [],
   "source": [
    "#Renaming some columns\n",
    "df2019_round1=df2019_round1.rename(columns={\"ZoneName\":\"Institute\",\"CourseName\":\"Course\"})\n",
    "df2019_round2=df2019_round2.rename(columns={\"ZoneName\":\"Institute\",\"CourseName\":\"Course\"})\n",
    "df2019_round3=df2019_round3.rename(columns={\"ZoneName\":\"Institute\",\"CourseName\":\"Course\"})"
   ]
  },
  {
   "cell_type": "code",
   "execution_count": 6,
   "id": "2b490141",
   "metadata": {},
   "outputs": [
    {
     "name": "stdout",
     "output_type": "stream",
     "text": [
      "The number of unique IITs participating in JAM is :- 21\n",
      "The number of unique courses offered by IITs after JAM qualification is :- 24\n"
     ]
    }
   ],
   "source": [
    "#Checking the number of IITs and the courses\n",
    "print(f\"The number of unique IITs participating in JAM is :- {len(df2021_round1['Institute'].unique())}\")\n",
    "print(f\"The number of unique courses offered by IITs after JAM qualification is :- {len(df2021_round1['Course'].unique())}\")"
   ]
  },
  {
   "cell_type": "markdown",
   "id": "1e402221",
   "metadata": {},
   "source": [
    "#### 2021"
   ]
  },
  {
   "cell_type": "code",
   "execution_count": 7,
   "id": "c3557e1f",
   "metadata": {},
   "outputs": [],
   "source": [
    "#Creating different DataFrames for different castes (Round1)\n",
    "df2021_round1gn=df2021_round1[['Institute','Course','Closing_gn']]\n",
    "df2021_round1obc=df2021_round1[['Institute','Course','Closing_obc']]\n",
    "df2021_round1sc=df2021_round1[['Institute','Course','Closing_sc']]\n",
    "df2021_round1st=df2021_round1[['Institute','Course','Closing_st']]\n",
    "#Round2\n",
    "df2021_round2gn=df2021_round2[['Institute','Course','Closing_gn']]\n",
    "df2021_round2obc=df2021_round2[['Institute','Course','Closing_obc']]\n",
    "df2021_round2sc=df2021_round2[['Institute','Course','Closing_sc']]\n",
    "df2021_round2st=df2021_round2[['Institute','Course','Closing_st']]\n",
    "#Round3\n",
    "df2021_round3gn=df2021_round3[['Institute','Course','Closing_gn']]\n",
    "df2021_round3obc=df2021_round3[['Institute','Course','Closing_obc']]\n",
    "df2021_round3sc=df2021_round3[['Institute','Course','Closing_sc']]\n",
    "df2021_round3st=df2021_round3[['Institute','Course','Closing_st']]"
   ]
  },
  {
   "cell_type": "markdown",
   "id": "2cb4cc8d",
   "metadata": {},
   "source": [
    "#### 2019"
   ]
  },
  {
   "cell_type": "code",
   "execution_count": 8,
   "id": "949a9b08",
   "metadata": {},
   "outputs": [],
   "source": [
    "#Creating different DataFrames for different castes (Round1)\n",
    "df2019_round1gn=df2019_round1[['Institute','Course','Closing_gn']]\n",
    "df2019_round1obc=df2019_round1[['Institute','Course','Closing_obc']]\n",
    "df2019_round1sc=df2019_round1[['Institute','Course','Closing_sc']]\n",
    "df2019_round1st=df2019_round1[['Institute','Course','Closing_st']]\n",
    "#Round2\n",
    "df2019_round2gn=df2019_round2[['Institute','Course','Closing_gn']]\n",
    "df2019_round2obc=df2019_round2[['Institute','Course','Closing_obc']]\n",
    "df2019_round2sc=df2019_round2[['Institute','Course','Closing_sc']]\n",
    "df2019_round2st=df2019_round2[['Institute','Course','Closing_st']]\n",
    "#Round3\n",
    "df2019_round3gn=df2019_round3[['Institute','Course','Closing_gn']]\n",
    "df2019_round3obc=df2019_round3[['Institute','Course','Closing_obc']]\n",
    "df2019_round3sc=df2019_round3[['Institute','Course','Closing_sc']]\n",
    "df2019_round3st=df2019_round3[['Institute','Course','Closing_st']]"
   ]
  },
  {
   "cell_type": "code",
   "execution_count": 9,
   "id": "418e7e8e",
   "metadata": {},
   "outputs": [
    {
     "data": {
      "text/plain": [
       "llT  BOMBAY            13\n",
       "llT  BHUBANESWAR        7\n",
       "llT  KHARAGPUR          6\n",
       "llT  ROORKEE            5\n",
       "llT  JODHPUR            3\n",
       "llT  lNDORE             3\n",
       "llT  DELHl              3\n",
       "llT  KANPUR             3\n",
       "llT  (lSM)  DHANBAD     3\n",
       "llT  Bhilai             2\n",
       "llT  PATNA              2\n",
       "llT  HYDERABAD          2\n",
       "llT  ROPAR              2\n",
       "llT  GANDHlNAGAR        2\n",
       "llT  MADRAS             2\n",
       "llT GUWAHATl            2\n",
       "llT  (BHU) Varanasi     1\n",
       "llT  Palakkad           1\n",
       "llT  Mandi              1\n",
       "llT  Tirupati           1\n",
       "Name: Institute, dtype: int64"
      ]
     },
     "execution_count": 9,
     "metadata": {},
     "output_type": "execute_result"
    }
   ],
   "source": [
    "#Number of courses in differnt IITs\n",
    "df2019_round1obc[\"Institute\"].value_counts()"
   ]
  },
  {
   "cell_type": "code",
   "execution_count": 10,
   "id": "c15b6ecd",
   "metadata": {},
   "outputs": [
    {
     "data": {
      "text/plain": [
       "IIT BOMBAY             16\n",
       "IIT KHARAGPUR           9\n",
       "IIT (ISM)\\nDHANBAD      5\n",
       "IIT INDORE              5\n",
       "IIT KANPUR              5\n",
       "IIT ROORKEE             5\n",
       "IIT JODHPUR             5\n",
       "IIT DELHI               4\n",
       "IIT\\nBHUBANESWAR        4\n",
       "IIT MANDI               3\n",
       "IIT TIRUPATI            3\n",
       "IIT PALAKKAD            3\n",
       "IIT BHILAI              3\n",
       "IIT HYDERABAD           3\n",
       "IIT PATNA               3\n",
       "IIT ROPAR               3\n",
       "IIT GANDHINAGAR         3\n",
       "IIT MADRAS              3\n",
       "IIT GUWAHATI            3\n",
       "IIT (BHU)\\nVARANASI     2\n",
       "IIT BHUBANESWAR         1\n",
       "Name: Institute, dtype: int64"
      ]
     },
     "execution_count": 10,
     "metadata": {},
     "output_type": "execute_result"
    }
   ],
   "source": [
    "#Number of courses in differnt IITs\n",
    "df2021_round1obc[\"Institute\"].value_counts()"
   ]
  },
  {
   "cell_type": "markdown",
   "id": "312839bc",
   "metadata": {},
   "source": [
    "Note:- All the year cutoffs will be merged with the 2021 cutoff"
   ]
  },
  {
   "cell_type": "code",
   "execution_count": 11,
   "id": "24ced846",
   "metadata": {},
   "outputs": [],
   "source": [
    "# Joining all the rounds for different castes\n",
    "#2021\n",
    "df2021_obc=pd.concat([df2021_round1obc,df2021_round2obc,df2021_round3obc,df2019_round1obc,\n",
    "                      df2019_round2obc,df2019_round1obc],axis=0)\n",
    "\n",
    "df2021_gn=pd.concat([df2021_round1gn,df2021_round2gn,df2021_round3gn,df2019_round1gn,\n",
    "                     df2019_round2gn,df2019_round3gn],axis=0)\n",
    "\n",
    "df2021_sc=pd.concat([df2021_round1sc,df2021_round2sc,df2021_round3sc,df2019_round1sc,\n",
    "                     df2019_round2sc,df2019_round3sc],axis=0)\n",
    "\n",
    "df2021_st=pd.concat([df2021_round1st,df2021_round2st,df2021_round3st,df2019_round1st,\n",
    "                     df2019_round2st,df2019_round3st],axis=0)\n"
   ]
  },
  {
   "cell_type": "code",
   "execution_count": 12,
   "id": "0e24f431",
   "metadata": {},
   "outputs": [],
   "source": [
    "#Resetting the index\n",
    "df2021_obc=(df2021_obc.reset_index()).drop(columns=['index'])\n",
    "df2021_gn=(df2021_gn.reset_index()).drop(columns=['index'])\n",
    "df2021_sc=(df2021_sc.reset_index()).drop(columns=['index'])\n",
    "df2021_st=(df2021_st.reset_index()).drop(columns=['index'])"
   ]
  },
  {
   "cell_type": "code",
   "execution_count": 13,
   "id": "7430a5f2",
   "metadata": {},
   "outputs": [],
   "source": [
    "#Dropping the entries with a null(\"-\") value\n",
    "itr=df2021_obc.shape[0]\n",
    "for i in range(0,itr):\n",
    "    if df2021_obc[\"Closing_obc\"][i]==\"-\":\n",
    "        df2021_obc=df2021_obc.drop([i],axis=0)\n",
    "\n",
    "        \n",
    "itr=df2021_gn.shape[0]\n",
    "for i in range(0,itr):\n",
    "    if df2021_gn[\"Closing_gn\"][i]==\"-\":\n",
    "        df2021_gn=df2021_gn.drop([i],axis=0)\n",
    " \n",
    "        \n",
    "itr=df2021_sc.shape[0]\n",
    "for i in range(0,itr):\n",
    "    if df2021_sc[\"Closing_sc\"][i]==\"-\":\n",
    "        df2021_sc=df2021_sc.drop([i],axis=0)\n",
    "        \n",
    "itr=df2021_st.shape[0]\n",
    "for i in range(0,itr):\n",
    "    if df2021_st[\"Closing_st\"][i]==\"-\":\n",
    "        df2021_st=df2021_st.drop([i],axis=0)\n"
   ]
  },
  {
   "cell_type": "code",
   "execution_count": 14,
   "id": "79bec454",
   "metadata": {},
   "outputs": [
    {
     "name": "stdout",
     "output_type": "stream",
     "text": [
      "The shape of General Data Frame is :- (443, 3)\n",
      "The shape of OBC Data Frame is :- (470, 3)\n",
      "The shape of SC Data Frame is :- (418, 3)\n",
      "The shape of ST Data Frame is :- (384, 3)\n"
     ]
    }
   ],
   "source": [
    "# The shape of the dataframes\n",
    "print(f\"The shape of General Data Frame is :- {df2021_gn.shape}\")\n",
    "print(f\"The shape of OBC Data Frame is :- {df2021_obc.shape}\")\n",
    "print(f\"The shape of SC Data Frame is :- {df2021_sc.shape}\")\n",
    "print(f\"The shape of ST Data Frame is :- {df2021_st.shape}\")"
   ]
  },
  {
   "cell_type": "code",
   "execution_count": 15,
   "id": "ae259e88",
   "metadata": {},
   "outputs": [
    {
     "data": {
      "text/plain": [
       "Institute     0\n",
       "Course        0\n",
       "Closing_gn    0\n",
       "dtype: int64"
      ]
     },
     "execution_count": 15,
     "metadata": {},
     "output_type": "execute_result"
    }
   ],
   "source": [
    "#Checking Null values\n",
    "df2021_gn.isnull().sum()"
   ]
  },
  {
   "cell_type": "code",
   "execution_count": 16,
   "id": "1f6bdb5d",
   "metadata": {},
   "outputs": [
    {
     "data": {
      "image/png": "[encoded data removed]",
      "text/plain": [
       "<Figure size 640x480 with 1 Axes>"
      ]
     },
     "metadata": {},
     "output_type": "display_data"
    }
   ],
   "source": [
    "#Lets visualize the scores\n",
    "data=df2021_obc[\"Closing_obc\"]\n",
    "data.plot(kind=\"hist\")\n",
    "plt.title(\"Histogram for obc rank\")\n",
    "plt.show()"
   ]
  },
  {
   "cell_type": "code",
   "execution_count": 17,
   "id": "771f5a63",
   "metadata": {},
   "outputs": [],
   "source": [
    "# Creating target features and dependent features\n",
    "#General\n",
    "X_gn=df2021_gn.drop(columns='Institute')\n",
    "y_gn=df2021_gn['Institute']\n",
    "#OBC\n",
    "X_obc=df2021_obc.drop(columns='Institute')\n",
    "y_obc=df2021_obc['Institute']\n",
    "#SC\n",
    "X_sc=df2021_sc.drop(columns='Institute')\n",
    "y_sc=df2021_sc['Institute']\n",
    "#ST\n",
    "X_st=df2021_st.drop(columns='Institute')\n",
    "y_st=df2021_st['Institute']"
   ]
  },
  {
   "cell_type": "code",
   "execution_count": 18,
   "id": "1772eb96",
   "metadata": {},
   "outputs": [],
   "source": [
    "#Uisng Column Transformer for using two feature engineering methods\n",
    "#Gen\n",
    "transformer_gen =ColumnTransformer([\n",
    "    (\"Onehot\",OneHotEncoder(),['Course']),\n",
    "    (\"scalar\",StandardScaler(),['Closing_gn'])\n",
    "])\n",
    "#OBC\n",
    "transformer_obc =ColumnTransformer([\n",
    "    (\"Onehot\",OneHotEncoder(),['Course']),\n",
    "    (\"scalar\",StandardScaler(),['Closing_obc'])\n",
    "])\n",
    "#SC\n",
    "transformer_sc =ColumnTransformer([\n",
    "    (\"Onehot\",OneHotEncoder(),['Course']),\n",
    "    (\"scalar\",StandardScaler(),['Closing_sc'])\n",
    "])\n",
    "#ST\n",
    "transformer_st =ColumnTransformer([\n",
    "    (\"Onehot\",OneHotEncoder(),['Course']),\n",
    "    (\"scalar\",StandardScaler(),['Closing_st'])\n",
    "])"
   ]
  },
  {
   "cell_type": "code",
   "execution_count": 19,
   "id": "da8a1267",
   "metadata": {},
   "outputs": [],
   "source": [
    "#creating a pipeline to transform the data and fit the model\n",
    "#Gen\n",
    "pipe_gn=Pipeline([\n",
    "    ('trans',transformer_gen),(\"clf\",RandomForestClassifier())\n",
    "])\n",
    "#obc\n",
    "pipe_obc=Pipeline([\n",
    "    ('trans',transformer_obc),(\"clf\",RandomForestClassifier())\n",
    "])\n",
    "#sc\n",
    "pipe_sc=Pipeline([\n",
    "    ('trans',transformer_sc),(\"clf\",RandomForestClassifier())\n",
    "])\n",
    "#st\n",
    "pipe_st=Pipeline([\n",
    "    ('trans',transformer_st),(\"clf\",RandomForestClassifier())\n",
    "])"
   ]
  },
  {
   "cell_type": "code",
   "execution_count": 20,
   "id": "5340fe51",
   "metadata": {},
   "outputs": [
    {
     "data": {
      "text/plain": [
       "Pipeline(steps=[('trans',\n",
       "                 ColumnTransformer(transformers=[('Onehot', OneHotEncoder(),\n",
       "                                                  ['Course']),\n",
       "                                                 ('scalar', StandardScaler(),\n",
       "                                                  ['Closing_st'])])),\n",
       "                ('clf', RandomForestClassifier())])"
      ]
     },
     "execution_count": 20,
     "metadata": {},
     "output_type": "execute_result"
    }
   ],
   "source": [
    "#Fitting the pipeline with X_train and y_train data\n",
    "pipe_gn.fit(X_gn,y_gn)\n",
    "pipe_obc.fit(X_obc,y_obc)\n",
    "pipe_sc.fit(X_sc,y_sc)\n",
    "pipe_st.fit(X_st,y_st)"
   ]
  },
  {
   "cell_type": "code",
   "execution_count": 21,
   "id": "0a9946fc",
   "metadata": {},
   "outputs": [
    {
     "name": "stdout",
     "output_type": "stream",
     "text": [
      "The training accuracy of General Category is : 0.9119638826185101\n",
      "The training accuracy of OBC Category is : 0.9127659574468086\n",
      "The training accuracy of SC Category is : 0.861244019138756\n",
      "The training accuracy of ST Category is : 0.8385416666666666\n"
     ]
    }
   ],
   "source": [
    "\n",
    "#Training accuracy\n",
    "#gen\n",
    "train_predgn=pipe_gn.predict(X_gn)\n",
    "print(f\"The training accuracy of General Category is : {accuracy_score(train_predgn,y_gn)}\")\n",
    "#obc\n",
    "train_predobc=pipe_obc.predict(X_obc)\n",
    "print(f\"The training accuracy of OBC Category is : {accuracy_score(train_predobc,y_obc)}\")\n",
    "#SC\n",
    "train_predsc=pipe_sc.predict(X_sc)\n",
    "print(f\"The training accuracy of SC Category is : {accuracy_score(train_predsc,y_sc)}\")\n",
    "#ST\n",
    "train_predst=pipe_st.predict(X_st)\n",
    "print(f\"The training accuracy of ST Category is : {accuracy_score(train_predst,y_st)}\")"
   ]
  },
  {
   "cell_type": "code",
   "execution_count": 22,
   "id": "90e72a15",
   "metadata": {},
   "outputs": [],
   "source": [
    "#df2021_obc[\"Course\"].value_counts()"
   ]
  },
  {
   "cell_type": "code",
   "execution_count": 23,
   "id": "7451727e",
   "metadata": {},
   "outputs": [
    {
     "data": {
      "text/html": [
       "<div>\n",
       "<style scoped>\n",
       "    .dataframe tbody tr th:only-of-type {\n",
       "        vertical-align: middle;\n",
       "    }\n",
       "\n",
       "    .dataframe tbody tr th {\n",
       "        vertical-align: top;\n",
       "    }\n",
       "\n",
       "    .dataframe thead th {\n",
       "        text-align: right;\n",
       "    }\n",
       "</style>\n",
       "<table border=\"1\" class=\"dataframe\">\n",
       "  <thead>\n",
       "    <tr style=\"text-align: right;\">\n",
       "      <th></th>\n",
       "      <th>Course</th>\n",
       "      <th>Closing_obc</th>\n",
       "    </tr>\n",
       "  </thead>\n",
       "  <tbody>\n",
       "    <tr>\n",
       "      <th>0</th>\n",
       "      <td>PHYSICS</td>\n",
       "      <td>741</td>\n",
       "    </tr>\n",
       "  </tbody>\n",
       "</table>\n",
       "</div>"
      ],
      "text/plain": [
       "    Course  Closing_obc\n",
       "0  PHYSICS          741"
      ]
     },
     "execution_count": 23,
     "metadata": {},
     "output_type": "execute_result"
    }
   ],
   "source": [
    "#Custom test dataframe\n",
    "data={\"Course\":[\"PHYSICS\"],\"Closing_obc\":[741]}\n",
    "df_test=pd.DataFrame(data=data)\n",
    "df_test"
   ]
  },
  {
   "cell_type": "code",
   "execution_count": 24,
   "id": "6bab753e",
   "metadata": {},
   "outputs": [],
   "source": [
    "train_pred=pipe_obc.predict(df_test)"
   ]
  },
  {
   "cell_type": "code",
   "execution_count": 25,
   "id": "81d4efae",
   "metadata": {},
   "outputs": [
    {
     "data": {
      "text/plain": [
       "array(['IIT INDORE'], dtype=object)"
      ]
     },
     "execution_count": 25,
     "metadata": {},
     "output_type": "execute_result"
    }
   ],
   "source": [
    "train_pred"
   ]
  },
  {
   "cell_type": "markdown",
   "id": "67cccfb0",
   "metadata": {},
   "source": [
    "Writing a if clause to check the provided caste by the user and accordingly calling the required pipeline"
   ]
  },
  {
   "cell_type": "code",
   "execution_count": 26,
   "id": "cb0ba1e6",
   "metadata": {},
   "outputs": [
    {
     "name": "stdout",
     "output_type": "stream",
     "text": [
      "['IIT ROORKEE']\n"
     ]
    }
   ],
   "source": [
    "Course=\"APPLIED GEOLOGY\"\n",
    "Caste=\"OBC\"\n",
    "Rank=98\n",
    "if Caste==\"GEN\":\n",
    "    data={\"Course\":[Course],\"Closing_gn\":[Rank]}\n",
    "    df_test=pd.DataFrame(data)\n",
    "    print(pipe_gn.predict(df_test))\n",
    "elif Caste==\"OBC\":\n",
    "    data={\"Course\":[Course],\"Closing_obc\":[Rank]}\n",
    "    df_test=pd.DataFrame(data)\n",
    "    print(pipe_obc.predict(df_test))\n",
    "elif Caste==\"SC\":\n",
    "    data={\"Course\":[Course],\"Closing_gn\":[Rank]}\n",
    "    df_test=pd.DataFrame(data)\n",
    "    print(pipe_sc.predict(df_test))\n",
    "elif Caste==\"ST\":\n",
    "    data={\"Course\":[Course],\"Closing_gn\":[Rank]}\n",
    "    df_test=pd.DataFrame(data)\n",
    "    print(pipe_st.predict(df_test))\n",
    "    "
   ]
  },
  {
   "cell_type": "code",
   "execution_count": 38,
   "id": "943c80a1",
   "metadata": {},
   "outputs": [
    {
     "data": {
      "text/plain": [
       "['pipe_st.joblib']"
      ]
     },
     "execution_count": 38,
     "metadata": {},
     "output_type": "execute_result"
    }
   ],
   "source": [
    "#Dumping the pipelines\n",
    "dump(pipe_gn,\"pipe_gn.joblib\")\n",
    "dump(pipe_obc,\"pipe_obc.joblib\")\n",
    "dump(pipe_sc,\"pipe_sc.joblib\")\n",
    "dump(pipe_st,\"pipe_st.joblib\")"
   ]
  }
 ],
 "metadata": {
  "kernelspec": {
   "display_name": "Python 3",
   "language": "python",
   "name": "python3"
  },
  "language_info": {
   "codemirror_mode": {
    "name": "ipython",
    "version": 3
   },
   "file_extension": ".py",
   "mimetype": "text/x-python",
   "name": "python",
   "nbconvert_exporter": "python",
   "pygments_lexer": "ipython3",
   "version": "3.8.8"
  }
 },
 "nbformat": 4,
 "nbformat_minor": 5
}
